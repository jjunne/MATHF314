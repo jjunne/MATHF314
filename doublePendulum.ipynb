{
 "cells": [
  {
   "cell_type": "code",
   "execution_count": null,
   "metadata": {},
   "outputs": [],
   "source": [
    "import numpy as np\n",
    "import matplotlib.pyplot as plt\n",
    "from matplotlib import animation\n",
    "%matplotlib inline"
   ]
  },
  {
   "cell_type": "code",
   "execution_count": null,
   "metadata": {},
   "outputs": [],
   "source": [
    "def rk4(f, y0, h, start, stop):\n",
    "    y = np.array([y0])\n",
    "    t = np.array([start])\n",
    "    for i in range(int(np.ceil((stop - start)/h))):\n",
    "        k1 = h*f(y[-1], t[-1])\n",
    "        k2 = h*f(y[-1] + k1/2, t[-1] + k1/2)\n",
    "        k3 = h*f(y[-1] + k2/2, t[-1] + k2/2)\n",
    "        k4 = h*f(y[-1] + k3, t[-1] + k3)\n",
    "        y = np.concatenate((y, [y[-1] + (k1 + 2*k2 + 2*k3 + k4)/6]), 0)\n",
    "        t = np.append(t, t[-1] + h)\n",
    "    return (t, y)"
   ]
  },
  {
   "cell_type": "code",
   "execution_count": null,
   "metadata": {},
   "outputs": [],
   "source": [
    "m = 1\n",
    "l = 1\n",
    "g = 9.81\n",
    "def f(y, t):\n",
    "    theta1 = y[0]\n",
    "    theta2 = y[1]\n",
    "    p1 = y[2]\n",
    "    p2 = y[3]\n",
    "    f1 = 6/(m*l**2)*(2*p1-3*np.cos(theta1-theta2)*p2)/(16-9*np.cos(theta1-theta2)**2)\n",
    "    f2 = 6/(m*l**2)*(8*p2-3*np.cos(theta1-theta2)*p1)/(16-9*np.cos(theta1-theta2)**2)\n",
    "    f3 = -0.5*m*l**2*(f1*f2*np.sin(theta1-theta2)+3*g/l*np.sin(theta1))\n",
    "    f4 = -0.5*m*l**2*(-f1*f2*np.sin(theta1-theta2)+g/l*np.sin(theta2))\n",
    "    return  np.array([f1, f2, f3, f4])"
   ]
  },
  {
   "cell_type": "code",
   "execution_count": null,
   "metadata": {},
   "outputs": [],
   "source": [
    "data = rk4(f, [np.pi/2, np.pi/2, 0, 0], 0.001, 0, 20)\n",
    "fact = 20\n",
    "\n",
    "fig = plt.figure()\n",
    "ax = fig.add_subplot(111, autoscale_on=False, xlim=(-2, 2), ylim=(-2, 2))\n",
    "ax.grid()\n",
    "plt.gca().set_aspect('equal', adjustable='box')\n",
    "\n",
    "line, = ax.plot([], [], 'r-', lw=3)\n",
    "extremity, = ax.plot([], [], 'black', lw=1)\n",
    "time_template = 'time = %.1fs'\n",
    "time_text = ax.text(0.05, 0.9, '', transform=ax.transAxes)\n",
    "x1 = l*np.sin(data[1][:,0])\n",
    "y1 = -l*np.cos(data[1][:,0])\n",
    "x2 = x1 + l*np.sin(data[1][:,1])\n",
    "y2 = y1 - l*np.cos(data[1][:,1])\n",
    "\n",
    "def init():\n",
    "    line.set_data([], [])\n",
    "    time_text.set_text('')\n",
    "    return line, time_text\n",
    "\n",
    "def animate(i):\n",
    "    thisx = [0, x1[i*fact], x2[i*fact]]\n",
    "    thisy = [0, y1[i*fact], y2[i*fact]]\n",
    "    line.set_data(thisx, thisy)\n",
    "    extremity.set_data(x2[:i*fact+1], y2[:i*fact+1])\n",
    "    time_text.set_text(time_template % (data[0][i*fact]))\n",
    "    return extremity, line, time_text\n",
    "\n",
    "anim = animation.FuncAnimation(fig, animate, init_func=init,\n",
    "                               frames=int(len(data[1])/fact), interval=0.001, blit=True)\n",
    "anim.save(\"double_pendulum.mp4\", fps=fact*5/2)"
   ]
  },
  {
   "cell_type": "code",
   "execution_count": null,
   "metadata": {},
   "outputs": [],
   "source": [
    "%%HTML\n",
    "<video width=\"600\" height=\"600\" controls>\n",
    "   <source src=\"double_pendulum.mp4\" type=\"video/mp4\">\n",
    "</video>"
   ]
  },
  {
   "cell_type": "code",
   "execution_count": null,
   "metadata": {},
   "outputs": [],
   "source": []
  }
 ],
 "metadata": {
  "kernelspec": {
   "display_name": "Python 3",
   "language": "python",
   "name": "python3"
  },
  "language_info": {
   "codemirror_mode": {
    "name": "ipython",
    "version": 3
   },
   "file_extension": ".py",
   "mimetype": "text/x-python",
   "name": "python",
   "nbconvert_exporter": "python",
   "pygments_lexer": "ipython3",
   "version": "3.7.0"
  }
 },
 "nbformat": 4,
 "nbformat_minor": 1
}

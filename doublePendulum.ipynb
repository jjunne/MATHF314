{
 "cells": [
  {
   "cell_type": "code",
   "execution_count": 1,
   "metadata": {
    "collapsed": true
   },
   "outputs": [],
   "source": [
    "import numpy as np\n",
    "import matplotlib.pyplot as plt\n",
    "from matplotlib import animation\n",
    "from IPython.display import HTML\n",
    "%matplotlib inline"
   ]
  },
  {
   "cell_type": "code",
   "execution_count": 2,
   "metadata": {
    "collapsed": true
   },
   "outputs": [],
   "source": [
    "def rk4(f, y0, h, start, stop):\n",
    "    N = int(np.ceil((stop - start)/h))\n",
    "    t = np.zeros(N+1)\n",
    "    y = np.zeros((N+1,4))\n",
    "    y[0] = y0\n",
    "    t[0] = start\n",
    "    for i in range(N):\n",
    "        k1 = h*f(y[i])\n",
    "        k2 = h*f(y[i] + k1/2)\n",
    "        k3 = h*f(y[i] + k2/2)\n",
    "        k4 = h*f(y[i] + k3)\n",
    "        y[i+1] = y[i] + (k1 + 2*k2 + 2*k3 + k4)/6\n",
    "        t[i+1] = t[i] + h\n",
    "    return (t, y)"
   ]
  },
  {
   "cell_type": "code",
   "execution_count": 3,
   "metadata": {
    "collapsed": true
   },
   "outputs": [],
   "source": [
    "m = 1\n",
    "l = 1\n",
    "g = 9.81\n",
    "def f(y):\n",
    "    theta1 = y[0]\n",
    "    theta2 = y[1]\n",
    "    p1 = y[2]\n",
    "    p2 = y[3]\n",
    "    f1 = 6/(m*l**2)*(2*p1-3*np.cos(theta1-theta2)*p2)/(16-9*np.cos(theta1-theta2)**2)\n",
    "    f2 = 6/(m*l**2)*(8*p2-3*np.cos(theta1-theta2)*p1)/(16-9*np.cos(theta1-theta2)**2)\n",
    "    f3 = -0.5*m*l**2*(f1*f2*np.sin(theta1-theta2)+3*g/l*np.sin(theta1))\n",
    "    f4 = -0.5*m*l**2*(-f1*f2*np.sin(theta1-theta2)+g/l*np.sin(theta2))\n",
    "    return  np.array([f1, f2, f3, f4])"
   ]
  },
  {
   "cell_type": "code",
   "execution_count": 4,
   "metadata": {
    "collapsed": false
   },
   "outputs": [
    {
     "ename": "KeyError",
     "evalue": "'ffmpeg'",
     "output_type": "error",
     "traceback": [
      "\u001b[1;31m---------------------------------------------------------------------------\u001b[0m",
      "\u001b[1;31mKeyError\u001b[0m                                  Traceback (most recent call last)",
      "\u001b[1;32m<ipython-input-4-58b484e4a2dc>\u001b[0m in \u001b[0;36m<module>\u001b[1;34m()\u001b[0m\n\u001b[0;32m     32\u001b[0m                                frames=int(len(data[1])/fact), interval=20, blit=True)\n\u001b[0;32m     33\u001b[0m \u001b[1;31m#anim.save(\"double_pendulum.mp4\", fps=fact*5/2)\u001b[0m\u001b[1;33m\u001b[0m\u001b[1;33m\u001b[0m\u001b[0m\n\u001b[1;32m---> 34\u001b[1;33m \u001b[0mHTML\u001b[0m\u001b[1;33m(\u001b[0m\u001b[0manim\u001b[0m\u001b[1;33m.\u001b[0m\u001b[0mto_html5_video\u001b[0m\u001b[1;33m(\u001b[0m\u001b[1;33m)\u001b[0m\u001b[1;33m)\u001b[0m\u001b[1;33m\u001b[0m\u001b[0m\n\u001b[0m",
      "\u001b[1;32mC:\\Users\\jjxxx_000\\Anaconda3\\lib\\site-packages\\matplotlib\\animation.py\u001b[0m in \u001b[0;36mto_html5_video\u001b[1;34m(self)\u001b[0m\n\u001b[0;32m    919\u001b[0m                 \u001b[1;31m# We create a writer manually so that we can get the\u001b[0m\u001b[1;33m\u001b[0m\u001b[1;33m\u001b[0m\u001b[0m\n\u001b[0;32m    920\u001b[0m                 \u001b[1;31m# appropriate size for the tag\u001b[0m\u001b[1;33m\u001b[0m\u001b[1;33m\u001b[0m\u001b[0m\n\u001b[1;32m--> 921\u001b[1;33m                 \u001b[0mWriter\u001b[0m \u001b[1;33m=\u001b[0m \u001b[0mwriters\u001b[0m\u001b[1;33m[\u001b[0m\u001b[0mrcParams\u001b[0m\u001b[1;33m[\u001b[0m\u001b[1;34m'animation.writer'\u001b[0m\u001b[1;33m]\u001b[0m\u001b[1;33m]\u001b[0m\u001b[1;33m\u001b[0m\u001b[0m\n\u001b[0m\u001b[0;32m    922\u001b[0m                 writer = Writer(codec='h264',\n\u001b[0;32m    923\u001b[0m                                 \u001b[0mbitrate\u001b[0m\u001b[1;33m=\u001b[0m\u001b[0mrcParams\u001b[0m\u001b[1;33m[\u001b[0m\u001b[1;34m'animation.bitrate'\u001b[0m\u001b[1;33m]\u001b[0m\u001b[1;33m,\u001b[0m\u001b[1;33m\u001b[0m\u001b[0m\n",
      "\u001b[1;32mC:\\Users\\jjxxx_000\\Anaconda3\\lib\\site-packages\\matplotlib\\animation.py\u001b[0m in \u001b[0;36m__getitem__\u001b[1;34m(self, name)\u001b[0m\n\u001b[0;32m     82\u001b[0m         \u001b[1;32mif\u001b[0m \u001b[1;32mnot\u001b[0m \u001b[0mself\u001b[0m\u001b[1;33m.\u001b[0m\u001b[0mavail\u001b[0m\u001b[1;33m:\u001b[0m\u001b[1;33m\u001b[0m\u001b[0m\n\u001b[0;32m     83\u001b[0m             \u001b[1;32mraise\u001b[0m \u001b[0mRuntimeError\u001b[0m\u001b[1;33m(\u001b[0m\u001b[1;34m\"No MovieWriters available!\"\u001b[0m\u001b[1;33m)\u001b[0m\u001b[1;33m\u001b[0m\u001b[0m\n\u001b[1;32m---> 84\u001b[1;33m         \u001b[1;32mreturn\u001b[0m \u001b[0mself\u001b[0m\u001b[1;33m.\u001b[0m\u001b[0mavail\u001b[0m\u001b[1;33m[\u001b[0m\u001b[0mname\u001b[0m\u001b[1;33m]\u001b[0m\u001b[1;33m\u001b[0m\u001b[0m\n\u001b[0m\u001b[0;32m     85\u001b[0m \u001b[1;33m\u001b[0m\u001b[0m\n\u001b[0;32m     86\u001b[0m \u001b[0mwriters\u001b[0m \u001b[1;33m=\u001b[0m \u001b[0mMovieWriterRegistry\u001b[0m\u001b[1;33m(\u001b[0m\u001b[1;33m)\u001b[0m\u001b[1;33m\u001b[0m\u001b[0m\n",
      "\u001b[1;31mKeyError\u001b[0m: 'ffmpeg'"
     ]
    },
    {
     "data": {
      "image/png": "[encoded data removed]",
      "text/plain": [
       "<matplotlib.figure.Figure at 0x84be3fdfd0>"
      ]
     },
     "metadata": {},
     "output_type": "display_data"
    }
   ],
   "source": [
    "data = rk4(f, [np.pi/2, np.pi/2, 0, 0], 0.001, 0, 20)\n",
    "fact = 20\n",
    "\n",
    "fig = plt.figure()\n",
    "ax = fig.add_subplot(111, autoscale_on=False, xlim=(-2, 2), ylim=(-2, 2))\n",
    "ax.grid()\n",
    "plt.gca().set_aspect('equal', adjustable='box')\n",
    "\n",
    "line, = ax.plot([], [], 'r-', lw=3)\n",
    "extremity, = ax.plot([], [], 'black', lw=1)\n",
    "time_template = 'time = %.1fs'\n",
    "time_text = ax.text(0.05, 0.9, '', transform=ax.transAxes)\n",
    "x1 = l*np.sin(data[1][:,0])\n",
    "y1 = -l*np.cos(data[1][:,0])\n",
    "x2 = x1 + l*np.sin(data[1][:,1])\n",
    "y2 = y1 - l*np.cos(data[1][:,1])\n",
    "\n",
    "def init():\n",
    "    line.set_data([], [])\n",
    "    time_text.set_text('')\n",
    "    return line, time_text\n",
    "\n",
    "def animate(i):\n",
    "    thisx = [0, x1[i*fact], x2[i*fact]]\n",
    "    thisy = [0, y1[i*fact], y2[i*fact]]\n",
    "    line.set_data(thisx, thisy)\n",
    "    extremity.set_data(x2[:i*fact+1], y2[:i*fact+1])\n",
    "    time_text.set_text(time_template % (data[0][i*fact]))\n",
    "    return extremity, line, time_text\n",
    "\n",
    "anim = animation.FuncAnimation(fig, animate, init_func=init,\n",
    "                               frames=int(len(data[1])/fact), interval=20, blit=True)\n",
    "#anim.save(\"double_pendulum.mp4\", fps=fact*5/2)\n",
    "HTML(anim.to_html5_video())"
   ]
  },
  {
   "cell_type": "code",
   "execution_count": 5,
   "metadata": {
    "collapsed": true
   },
   "outputs": [],
   "source": [
    "from sympy import Symbol, Function, Derivative, cos, latex, simplify\n",
    "from sympy.calculus.euler import euler_equations\n",
    "t = Symbol('t')\n",
    "l = Symbol('l')\n",
    "m = Symbol('m')\n",
    "g = Symbol('g')\n",
    "theta1 = Function('theta1')\n",
    "theta2 = Function('theta2')\n",
    "L = 1/6*m*l**2*((theta2(t).diff(t))**2 + 4*(theta1(t).diff(t))**2 + 3*theta1(t).diff(t)*theta2(t).diff(t)*cos(theta1(t) - theta2(t))) + 1/2*m*g*l*(3*cos(theta1(t)) + cos(theta2(t)))\n",
    "eqs = euler_equations(L, [theta1(t), theta2(t)], t)\n",
    "s_latex = repr(latex(eqs))\n",
    "file = open(\"latex_eq.txt\", \"w\")\n",
    "file.write(s_latex)\n",
    "file.close()"
   ]
  },
  {
   "cell_type": "markdown",
   "metadata": {},
   "source": [
    "$$\\left [ - 1.5 g l m \\sin{\\left (\\theta_{1}{\\left (t \\right )} \\right )} - \\frac{1}{6} l^{2} m \\left(- 3 \\left(\\frac{d}{d t} \\theta_{1}{\\left (t \\right )} - \\frac{d}{d t} \\theta_{2}{\\left (t \\right )}\\right) \\sin{\\left (\\theta_{1}{\\left (t \\right )} - \\theta_{2}{\\left (t \\right )} \\right )} \\frac{d}{d t} \\theta_{2}{\\left (t \\right )} + 3 \\cos{\\left (\\theta_{1}{\\left (t \\right )} - \\theta_{2}{\\left (t \\right )} \\right )} \\frac{d^{2}}{d t^{2}}  \\theta_{2}{\\left (t \\right )} + 8 \\frac{d^{2}}{d t^{2}}  \\theta_{1}{\\left (t \\right )}\\right) - 0.5 l^{2} m \\sin{\\left (\\theta_{1}{\\left (t \\right )} - \\theta_{2}{\\left (t \\right )} \\right )} \\frac{d}{d t} \\theta_{1}{\\left (t \\right )} \\frac{d}{d t} \\theta_{2}{\\left (t \\right )} = 0, \\quad - 0.5 g l m \\sin{\\left (\\theta_{2}{\\left (t \\right )} \\right )} - \\frac{1}{6} l^{2} m \\left(- 3 \\left(\\frac{d}{d t} \\theta_{1}{\\left (t \\right )} - \\frac{d}{d t} \\theta_{2}{\\left (t \\right )}\\right) \\sin{\\left (\\theta_{1}{\\left (t \\right )} - \\theta_{2}{\\left (t \\right )} \\right )} \\frac{d}{d t} \\theta_{1}{\\left (t \\right )} + 3 \\cos{\\left (\\theta_{1}{\\left (t \\right )} - \\theta_{2}{\\left (t \\right )} \\right )} \\frac{d^{2}}{d t^{2}}  \\theta_{1}{\\left (t \\right )} + 2 \\frac{d^{2}}{d t^{2}}  \\theta_{2}{\\left (t \\right )}\\right) + 0.5 l^{2} m \\sin{\\left (\\theta_{1}{\\left (t \\right )} - \\theta_{2}{\\left (t \\right )} \\right )} \\frac{d}{d t} \\theta_{1}{\\left (t \\right )} \\frac{d}{d t} \\theta_{2}{\\left (t \\right )} = 0\\right ]$$"
   ]
  },
  {
   "cell_type": "code",
   "execution_count": 7,
   "metadata": {
    "collapsed": false
   },
   "outputs": [
    {
     "name": "stdout",
     "output_type": "stream",
     "text": [
      "-0.283871914822 -0.958862209066 -1.6631011657e-05 4.92346727643e-06\n"
     ]
    }
   ],
   "source": [
    "m = 1\n",
    "l = 1\n",
    "g = 9.81\n",
    "I = 1/12*m*l**2\n",
    "def f(y):\n",
    "    t1 = y[0]\n",
    "    t2 = y[1]\n",
    "    p1 = y[2]\n",
    "    p2 = y[3]\n",
    "    f1 = p1\n",
    "    f2 = p2\n",
    "    f3 = -(2*m*g*l*(I + m*l**2)*np.sin(t1) + l*m*(g*(2*I+m*l**2)*np.sin(t1) + l*(g*m*l*np.sin(t1-2*t2) + 2*(p2**2*(I + m*l**2) + p1**2*l*m*l*np.cos(t1 - t2))*np.sin(t1 - t2))))/(2*I*l**2*m + 2*I*m*l**2 + l**2*m**2*l**2 + 2*m*m*l**2*l**2 + 2*I*(I + m*l**2) - l**2*m**2*l**2*np.cos(2*(t1-t2)))\n",
    "    f4 = -(m*l*(-(g*(2*I + l**2*m + 2*m*l**2)*np.sin(t2)) + l*(g*m*l*np.sin(t2) + 2*p1**2*(I + l**2*m + m*l**2)*np.sin(t1 - t2) + p2**2*l*m*l*np.sin(2*(t1 - t2)) + g*m*l*np.sin(2*t1 - t2) + g*l*m*np.sin(2*t1 - t2))))/(2*I*l**2*m + 2*I*m*l**2 + l**2*m**2*l**2 + 2*m*m*l**2*l**2 + 2*I*(I + m*l**2) - l**2*m**2*l**2*np.cos(2*(t1-t2)))\n",
    "    return  np.array([f1, f2, f3, f4])\n",
    "data = rk4(f, [np.pi/2, np.pi/2, 0, 0], 0.001, 0, 20)\n",
    "x1 = l*np.sin(data[1][:,0])\n",
    "y1 = -l*np.cos(data[1][:,0])\n",
    "x2 = x1 + l*np.sin(data[1][:,1])\n",
    "y2 = y1 - l*np.cos(data[1][:,1])\n",
    "print(x1[-1], y1[-1], x2[-1], y2[-1])"
   ]
  },
  {
   "cell_type": "code",
   "execution_count": null,
   "metadata": {
    "collapsed": true
   },
   "outputs": [],
   "source": []
  }
 ],
 "metadata": {
  "kernelspec": {
   "display_name": "Python 3",
   "language": "python",
   "name": "python3"
  },
  "language_info": {
   "codemirror_mode": {
    "name": "ipython",
    "version": 3
   },
   "file_extension": ".py",
   "mimetype": "text/x-python",
   "name": "python",
   "nbconvert_exporter": "python",
   "pygments_lexer": "ipython3",
   "version": "3.5.1"
  }
 },
 "nbformat": 4,
 "nbformat_minor": 1
}
